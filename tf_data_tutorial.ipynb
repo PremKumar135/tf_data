{
  "nbformat": 4,
  "nbformat_minor": 0,
  "metadata": {
    "colab": {
      "name": "tf_data_tutorial.ipynb",
      "provenance": []
    },
    "kernelspec": {
      "name": "python3",
      "display_name": "Python 3"
    },
    "language_info": {
      "name": "python"
    },
    "accelerator": "GPU"
  },
  "cells": [
    {
      "cell_type": "code",
      "execution_count": null,
      "metadata": {
        "colab": {
          "base_uri": "https://localhost:8080/"
        },
        "id": "8usdhIGouK_s",
        "outputId": "f9f0bc5e-b2a5-42c5-bd4c-14437c43f819"
      },
      "outputs": [
        {
          "output_type": "execute_result",
          "data": {
            "text/plain": [
              "<TensorSliceDataset element_spec=TensorSpec(shape=(), dtype=tf.int32, name=None)>"
            ]
          },
          "metadata": {},
          "execution_count": 7
        }
      ],
      "source": [
        "import tensorflow as tf\n",
        "\n",
        "daily_sales_number = [21,22,-108, 31, -1, 32, 34, 31]\n",
        "\n",
        "tf_dataset = tf.data.Dataset.from_tensor_slices(daily_sales_number)\n",
        "tf_dataset"
      ]
    },
    {
      "cell_type": "code",
      "source": [
        "for sales in tf_dataset:\n",
        "    print(sales.numpy())"
      ],
      "metadata": {
        "colab": {
          "base_uri": "https://localhost:8080/"
        },
        "id": "ev1yGg7tui9f",
        "outputId": "2981d880-2098-44e8-bd0f-258c360a1709"
      },
      "execution_count": null,
      "outputs": [
        {
          "output_type": "stream",
          "name": "stdout",
          "text": [
            "21\n",
            "22\n",
            "-108\n",
            "31\n",
            "-1\n",
            "32\n",
            "34\n",
            "31\n"
          ]
        }
      ]
    },
    {
      "cell_type": "code",
      "source": [
        "for sales in tf_dataset.take(3):\n",
        "    print(sales.numpy())"
      ],
      "metadata": {
        "colab": {
          "base_uri": "https://localhost:8080/"
        },
        "id": "O2kgUXE0utE5",
        "outputId": "9373a13a-936e-418e-cc12-e6d67424e72a"
      },
      "execution_count": null,
      "outputs": [
        {
          "output_type": "stream",
          "name": "stdout",
          "text": [
            "21\n",
            "22\n",
            "-108\n"
          ]
        }
      ]
    },
    {
      "cell_type": "code",
      "source": [
        "#filter func\n",
        "tf_dataset = tf_dataset.filter(lambda x:x>0)\n",
        "for sales in tf_dataset:\n",
        "    print(sales.numpy())"
      ],
      "metadata": {
        "colab": {
          "base_uri": "https://localhost:8080/"
        },
        "id": "NYCz2R2xu1Jp",
        "outputId": "68574630-3774-49e5-f7ba-96e3d756b9a6"
      },
      "execution_count": null,
      "outputs": [
        {
          "output_type": "stream",
          "name": "stdout",
          "text": [
            "21\n",
            "22\n",
            "31\n",
            "32\n",
            "34\n",
            "31\n"
          ]
        }
      ]
    },
    {
      "cell_type": "code",
      "source": [
        "#map func\n",
        "tf_dataset = tf_dataset.map(lambda x: x*72)\n",
        "for sales in tf_dataset:\n",
        "    print(sales.numpy())"
      ],
      "metadata": {
        "colab": {
          "base_uri": "https://localhost:8080/"
        },
        "id": "AWj1MCbFvD8Y",
        "outputId": "64007179-07cd-4e52-89fe-935bffea4795"
      },
      "execution_count": null,
      "outputs": [
        {
          "output_type": "stream",
          "name": "stdout",
          "text": [
            "1512\n",
            "1584\n",
            "2232\n",
            "2304\n",
            "2448\n",
            "2232\n"
          ]
        }
      ]
    },
    {
      "cell_type": "code",
      "source": [
        "#shuffle\n",
        "tf_dataset = tf_dataset.shuffle(buffer_size=2)\n",
        "for sales in tf_dataset:\n",
        "    print(sales.numpy())"
      ],
      "metadata": {
        "colab": {
          "base_uri": "https://localhost:8080/"
        },
        "id": "8tuYf6-IvM7z",
        "outputId": "76ac3a4e-e116-42c1-9204-44504c4103dc"
      },
      "execution_count": null,
      "outputs": [
        {
          "output_type": "stream",
          "name": "stdout",
          "text": [
            "1512\n",
            "2232\n",
            "1584\n",
            "2448\n",
            "2232\n",
            "2304\n"
          ]
        }
      ]
    },
    {
      "cell_type": "code",
      "source": [
        "#batching\n",
        "tf_dataset = tf_dataset.batch(2)\n",
        "for i in tf_dataset:\n",
        "    print(i.numpy())"
      ],
      "metadata": {
        "colab": {
          "base_uri": "https://localhost:8080/"
        },
        "id": "oKZBIlajvsUl",
        "outputId": "cd68bbd6-3f96-4318-a65b-611876bc0a63"
      },
      "execution_count": null,
      "outputs": [
        {
          "output_type": "stream",
          "name": "stdout",
          "text": [
            "[1584 1512]\n",
            "[2232 2304]\n",
            "[2232 2448]\n"
          ]
        }
      ]
    },
    {
      "cell_type": "code",
      "source": [
        "#in single pipeline\n",
        "daily_sales_number = [21,22,-108, 31, -1, 32, 34, 31]\n",
        "tf_dataset = tf.data.Dataset.from_tensor_slices(daily_sales_number)\n",
        "\n",
        "tf_dataset = tf_dataset.filter(lambda x: x>0).map(lambda y: y*72).shuffle(buffer_size=3).batch(2)\n",
        "\n",
        "for i in tf_dataset:\n",
        "    print(i.numpy())"
      ],
      "metadata": {
        "colab": {
          "base_uri": "https://localhost:8080/"
        },
        "id": "HpD0uNF3v24u",
        "outputId": "0a79b9fa-1a4b-4dc9-ee1b-4e815dc59226"
      },
      "execution_count": null,
      "outputs": [
        {
          "output_type": "stream",
          "name": "stdout",
          "text": [
            "[1512 2304]\n",
            "[2448 2232]\n",
            "[2232 1584]\n"
          ]
        }
      ]
    },
    {
      "cell_type": "markdown",
      "source": [
        "## Using tf.Data to create X_train and Y_train using image files"
      ],
      "metadata": {
        "id": "X4PE-7oz3rII"
      }
    },
    {
      "cell_type": "code",
      "source": [
        "!unzip \"/content/codebasics deep-learning-keras-tf-tutorial master 44_tf_data_pipeline-images.zip\""
      ],
      "metadata": {
        "colab": {
          "base_uri": "https://localhost:8080/"
        },
        "id": "kM8K4yIY3JDd",
        "outputId": "8ab28a00-872f-4b14-a674-282758373ace"
      },
      "execution_count": null,
      "outputs": [
        {
          "output_type": "stream",
          "name": "stdout",
          "text": [
            "Archive:  /content/codebasics deep-learning-keras-tf-tutorial master 44_tf_data_pipeline-images.zip\n",
            "   creating: cat/\n",
            " extracting: cat/The Joys of Owning a Cat - HelpGuide.org.jpg  \n",
            "   creating: dog/\n",
            " extracting: dog/Canine Mind....jpg  \n",
            " extracting: dog/9 Reasons to Own a Dog.jpg  \n",
            " extracting: dog/356 Free Dog Stock Photos - CC0 Images.jpg  \n",
            " extracting: cat/What to do if your cat is marking....jpg  \n",
            " extracting: dog/Aggression in dogs _ Animal Humane Society.jpg  \n",
            " extracting: dog/How dogs contribute to your health and....jpg  \n",
            " extracting: dog/The 25 Cutest Dog Breeds - Most....jpg  \n",
            " extracting: dog/How to make your dog feel comfortable....jpg  \n",
            " extracting: dog/The US Army is testing augmented....jpg  \n",
            " extracting: dog/The 20 Best Dog Breeds for Runners....jpg  \n",
            " extracting: dog/45 Best Large Dog Breeds - Top Big Dogs_yyth....jpg  \n",
            " extracting: cat/All About Your Cat_s Tongue.jpg  \n",
            " extracting: dog/Dog Breed Chart....jpg  \n",
            " extracting: dog/How Many Dog Breeds Are There_ _ Hill_s Pet.jpg  \n",
            " extracting: cat/The Science-Backed Benefits of Being a....jpg  \n",
            " extracting: dog/Southeastern Guide Dogs - YouTube.jpg  \n",
            " extracting: cat/Why Cats Sniff Rear Ends _ VCA Animal....png  \n",
            " extracting: dog/Best Hypoallergenic Dogs [Updated....jpg  \n",
            " extracting: cat/What does the COVID-19 summer surge....jpg  \n",
            " extracting: cat/Why Do Cats Hate Water_ _ Britannica.jpg  \n",
            " extracting: dog/Colitis in Dogs _ VCA Animal Hospital.jpg  \n",
            " extracting: dog/Dog Breeds Banned By Home Insurance....jpg  \n",
            " extracting: dog/15 Amazing Facts About Dogs That Will....jpg  \n",
            " extracting: dog/Dog - Role in human societies _ Britannica.jpg  \n",
            " extracting: dog/Hong Kong dog causes panic – but here_s... (1).jpg  \n",
            " extracting: dog/Largest Dog Breeds – American Kennel Club.jpg  \n",
            " extracting: dog/7 Tips on Canine Body Language _ ASPCApro.jpg  \n",
            " extracting: dog/Carolina Dog Dog Breed Information....jpg  \n",
            " extracting: cat/20 Reasons Why Cats Make the Best Pets....jpg  \n",
            " extracting: cat/Urine Marking in Cats _ ASPCA.jpg  \n",
            " extracting: dog/10 Teacup Dog Breeds for Tiny Canine Lovers.jpg  \n",
            " extracting: dog/25 Best Small Dog Breeds — Cute and....jpg  \n",
            " extracting: dog/25 Low-Maintenance Dog Breeds for....jpg  \n",
            " extracting: dog/2nd pet dog tests positive for COVID-19....jpg  \n",
            " extracting: dog/20 must-have products for new dog owners.jpg  \n",
            " extracting: dog/50 dog breeds and their history that....jpg  \n",
            " extracting: dog/Ancient dog DNA reveals 11_000 years of....jpg  \n",
            " extracting: dog/Best Dog & Puppy Health Insurance Plans....jpg  \n",
            " extracting: dog/Are Dogs Really Color-Blind_ _ Britannica.jpg  \n",
            " extracting: dog/Body Condition Score....jpg  \n",
            " extracting: dog/Common Dog Breeds and Their Health Issues.jpg  \n",
            " extracting: dog/Dogs caught coronavirus from their....jpg  \n",
            " extracting: dog/Dog collars _ The Humane Society of the....jpg  \n",
            " extracting: dog/Germany_ Dogs must be walked twice a....jpg  \n",
            " extracting: dog/Genes contribute to dog breeds_ iconic....jpg  \n",
            " extracting: dog/AKC Pet Insurance _ Health Insurance....png  \n",
            " extracting: dog/Great Dane - Wikipedia.jpg  \n",
            " extracting: dog/50 Cutest Dog Breeds as Puppies....jpg  \n",
            " extracting: cat/Want your cat to stay in purrrfect....jpg  \n",
            " extracting: dog/66 gifts for dogs or dog lovers to get_yythk....jpg  \n",
            " extracting: dog/Calculate Your Dog_s Age With This New....jpg  \n",
            " extracting: cat/Thinking of getting a cat....png  \n",
            " extracting: dog/100_ Dogs Pictures _ Download Free....jpg  \n",
            " extracting: dog/11 Things Humans Do That Dogs Hate.jpg  \n",
            " extracting: dog/8 amazing Indian dog breeds that....png  \n",
            " extracting: dog/Dogs _ Healthy Pets_ Healthy People _ CDC.jpg  \n",
            " extracting: dog/Haunted Victorian Child_ Dog....jpg  \n",
            " extracting: dog/Hong Kong dog causes panic – but here_s....jpg  \n",
            " extracting: dog/How My Dog Knows When I_m Sick - The....jpg  \n",
            " extracting: dog/Cats and Dogs.jpg   \n",
            " extracting: dog/Hot dogs_ what soaring puppy thefts....jpg  \n",
            " extracting: dog/First dog Major back at White House....jpg  \n",
            " extracting: dog/Important Things Every Dog Owner Should....jpg  \n",
            " extracting: dog/List of Dog Breeds _ Petfinder.jpg  \n",
            " extracting: dog/Maltese Dog Breed Information_ Pictures....jpg  \n",
            " extracting: dog/Most Popular Breeds – American Kennel Club.jpg  \n",
            " extracting: dog/How To Read Your Dog_s Body Language....png  \n",
            " extracting: dog/Modern Dog magazine _ the best dog....jpg  \n",
            " extracting: dog/List of dog breeds - Wikipedia.jpg  \n",
            " extracting: dog/Mood-Boosting Benefits of Pets....jpg  \n",
            " extracting: dog/Most Expensive Dog Breeds For Pet....png  \n",
            " extracting: dog/Most Popular Dog Names of 2020....jpg  \n",
            " extracting: dog/Rescue turns dog with untreatable tumor....jpg  \n",
            " extracting: dog/Rottweiler Dog Breed Information....jpg  \n",
            " extracting: dog/Science_ Talking to Your Dog Means You....jpg  \n",
            " extracting: dog/Soi Dog Foundation _ Ending The... (1).jpg  \n",
            " extracting: dog/Service Dogs from Southeastern Guide Dogs.jpg  \n",
            " extracting: dog/Most Popular Dog Breeds According....jpg  \n",
            " extracting: dog/Soi Dog Foundation _ Ending The....jpg  \n",
            " extracting: dog/The Best Dogs of BBC Earth _ Top 5....jpg  \n",
            " extracting: dog/Subaru Shows Love for Dogs Through the....jpg  \n",
            " extracting: dog/The Black Dog Tavern Company _ Life off....jpg  \n",
            " extracting: dog/The History of Dogs as Pets - ABC News.jpg  \n",
            " extracting: dog/The Importance of Walking Your Dog....jpg  \n",
            " extracting: dog/Top 10 Smartest Dog Breeds - Most....jpg  \n",
            " extracting: dog/Those Puppy Dog Eyes You Can_t Resist....jpg  \n",
            " extracting: dog/Trained dogs can smell coronavirus in....jpg  \n",
            " extracting: dog/Puppy Dog Pictures _ Download Free....jpg  \n",
            " extracting: dog/Welcoming Your Adopted Dog Into Your....jpg  \n",
            " extracting: dog/What makes dogs so special and....jpg  \n",
            " extracting: dog/Which Pop Culture Dog Is Best in Show....jpg  \n",
            " extracting: dog/Why Grumpy Dogs Outperform Friendly....jpg  \n",
            " extracting: dog/best dog treats_ according to veterinarians.jpg  \n",
            " extracting: dog/been calculating dog years wrong....jpg  \n",
            " extracting: dog/convert dog years to human years....jpg  \n",
            " extracting: dog/dog existed at the end of the Ice Age_yythkg....jpg  \n",
            " extracting: dog/The Cost of Owning a Dog.jpg  \n",
            " extracting: dog/scientists explain puppy dog eyes....jpg  \n",
            " extracting: dog/real_ age_ you_ll need a calculator....jpg  \n",
            " extracting: dog/why dogs understand our body language....jpg  \n",
            " extracting: cat/7 Foods Your Cat Can_t Eat.jpg  \n",
            " extracting: cat/A cat appears to have caught the....jpg  \n",
            " extracting: cat/Alley Cat Allies _ An Advocacy....jpg  \n",
            " extracting: cat/Adopt-A-Cat Month® - American Humane....jpg  \n",
            " extracting: cat/Cat Throwing Up_ Normal or Cause for....jpg  \n",
            " extracting: cat/Cat Advice _ Collecting a Urine Sample....jpg  \n",
            " extracting: cat/Are Cats Domesticated_ _ The New Yorker.jpg  \n",
            " extracting: cat/Cats Care About People More Than Food....jpg  \n",
            " extracting: cat/Cat intelligence - Wikipedia.jpg  \n",
            " extracting: cat/Cats _ The Humane Society of the United....jpg  \n",
            " extracting: cat/China_s First Cloned Kitten_ Garlic....png  \n",
            " extracting: cat/Famous Cat Performances in Movies_ Ranked.jpg  \n",
            " extracting: cat/Home_ sweet home_ How to bring an....jpg  \n",
            " extracting: cat/Giving cats food with an antibody may....jpg  \n",
            " extracting: cat/Cats really do need their humans_ even....jpg  \n",
            " extracting: cat/International Cat Care _ The ultimate....jpg  \n",
            " extracting: cat/How to Determine Your Cat_s Age.jpg  \n",
            " extracting: cat/Learn what to do with Stray and Feral....jpg  \n",
            " extracting: cat/How to buy the best cat food_ according....jpg  \n",
            " extracting: cat/New Cat Checklist 2021_ Supplies for....jpg  \n",
            " extracting: cat/Orlando Cat Café.png  \n",
            " extracting: cat/Is My Cat Normal_.jpg  \n",
            " extracting: cat/Reality check_ Can cat poop cause....jpg  \n",
            " extracting: cat/Pet Insurance for Cats & Kittens _ Petplan.png  \n",
            " extracting: cat/Soon_ the internet will make its own....jpg  \n",
            " extracting: cat/Texas lawyer accidentally uses cat....jpg  \n",
            " extracting: cat/The 10 Best Types of Cat _ Britannica.jpg  \n",
            " extracting: cat/The Cat Health Checklist_ Everything....jpg  \n",
            " extracting: cat/Stray Cat Alliance » Building a No Kill....jpg  \n"
          ]
        }
      ]
    },
    {
      "cell_type": "code",
      "source": [
        "!mkdir images\n",
        "!mv cat/ images/\n",
        "!mv dog/ images/"
      ],
      "metadata": {
        "id": "5pJh4ILi5fmZ"
      },
      "execution_count": null,
      "outputs": []
    },
    {
      "cell_type": "code",
      "source": [
        "images_ds = tf.data.Dataset.list_files('/content/images/*/*',shuffle=False)\n",
        "image_count = len(images_ds)\n",
        "print(image_count)"
      ],
      "metadata": {
        "colab": {
          "base_uri": "https://localhost:8080/"
        },
        "id": "IoKuC5V4wLYZ",
        "outputId": "88775a6e-5b54-46d1-a8dd-b1016e2b0482"
      },
      "execution_count": null,
      "outputs": [
        {
          "output_type": "stream",
          "name": "stdout",
          "text": [
            "130\n"
          ]
        }
      ]
    },
    {
      "cell_type": "code",
      "source": [
        "images_ds = images_ds.shuffle(200)\n",
        "for file in images_ds.take(3):\n",
        "    print(file.numpy())"
      ],
      "metadata": {
        "colab": {
          "base_uri": "https://localhost:8080/"
        },
        "id": "mo76TsQC5F6x",
        "outputId": "df29dbf6-6ae8-402a-c034-749bd0d9b5ab"
      },
      "execution_count": null,
      "outputs": [
        {
          "output_type": "stream",
          "name": "stdout",
          "text": [
            "b'/content/images/dog/10 Teacup Dog Breeds for Tiny Canine Lovers.jpg'\n",
            "b'/content/images/dog/Great Dane - Wikipedia.jpg'\n",
            "b'/content/images/dog/How To Read Your Dog_s Body Language....png'\n"
          ]
        }
      ]
    },
    {
      "cell_type": "code",
      "source": [
        "train_size = int(image_count*0.8)\n",
        "train_ds = images_ds.take(train_size)\n",
        "test_ds = images_ds.skip(train_size)\n",
        "\n",
        "print(len(train_ds))\n",
        "print(len(test_ds))"
      ],
      "metadata": {
        "colab": {
          "base_uri": "https://localhost:8080/"
        },
        "id": "MeerfFrU5y8q",
        "outputId": "1838a0c4-18a8-453a-b7cb-5317ed842fc8"
      },
      "execution_count": null,
      "outputs": [
        {
          "output_type": "stream",
          "name": "stdout",
          "text": [
            "104\n",
            "26\n"
          ]
        }
      ]
    },
    {
      "cell_type": "code",
      "source": [
        "import os\n",
        "for file in train_ds.take(3):\n",
        "    print(tf.strings.split(file, os.path.sep)[-2])"
      ],
      "metadata": {
        "colab": {
          "base_uri": "https://localhost:8080/"
        },
        "id": "Xh2HLQ4F6XHU",
        "outputId": "239bac21-abf0-4a5a-a058-fcaa4e82758f"
      },
      "execution_count": null,
      "outputs": [
        {
          "output_type": "stream",
          "name": "stdout",
          "text": [
            "tf.Tensor(b'dog', shape=(), dtype=string)\n",
            "tf.Tensor(b'dog', shape=(), dtype=string)\n",
            "tf.Tensor(b'dog', shape=(), dtype=string)\n"
          ]
        }
      ]
    },
    {
      "cell_type": "code",
      "source": [
        "import os\n",
        "def get_label(file_path):\n",
        "    parts = tf.strings.split(file_path, os.path.sep)\n",
        "    return parts[-2]"
      ],
      "metadata": {
        "id": "wEoeUscA6ILD"
      },
      "execution_count": null,
      "outputs": []
    },
    {
      "cell_type": "code",
      "source": [
        "def process_image(file_path):\n",
        "    label = get_label(file_path)\n",
        "    img = tf.io.read_file(file_path)\n",
        "    img = tf.image.decode_jpeg(img)\n",
        "    img = tf.image.resize(img, [128,128])\n",
        "    return img, label"
      ],
      "metadata": {
        "id": "wfB-_G1b7k6_"
      },
      "execution_count": null,
      "outputs": []
    },
    {
      "cell_type": "code",
      "source": [
        "img, label = process_image('/content/images/cat/20 Reasons Why Cats Make the Best Pets....jpg')\n",
        "print(img.numpy()[:2])"
      ],
      "metadata": {
        "colab": {
          "base_uri": "https://localhost:8080/"
        },
        "id": "AVBorlys76iy",
        "outputId": "dbbc2555-d3eb-4fab-ea1c-edbfd4923aa5"
      },
      "execution_count": null,
      "outputs": [
        {
          "output_type": "stream",
          "name": "stdout",
          "text": [
            "[[[155.       186.       215.      ]\n",
            "  [156.       187.       216.      ]\n",
            "  [158.       189.       218.      ]\n",
            "  [160.0039   189.0039   219.0039  ]\n",
            "  [161.0039   190.0039   220.0039  ]\n",
            "  [162.       191.       221.      ]\n",
            "  [166.       193.       222.      ]\n",
            "  [167.       194.       223.      ]\n",
            "  [168.       195.       224.      ]\n",
            "  [169.       196.       225.      ]\n",
            "  [170.       197.       224.      ]\n",
            "  [170.0039   197.0039   224.0039  ]\n",
            "  [172.       199.       226.      ]\n",
            "  [173.0039   199.0039   224.0039  ]\n",
            "  [174.0039   200.0039   225.0039  ]\n",
            "  [175.0039   201.0039   226.0039  ]\n",
            "  [176.       202.       227.      ]\n",
            "  [177.0039   203.0039   228.0039  ]\n",
            "  [177.0039   203.0039   228.0039  ]\n",
            "  [179.0039   203.0039   227.0039  ]\n",
            "  [180.0039   204.0039   228.0039  ]\n",
            "  [180.0039   204.0039   228.0039  ]\n",
            "  [181.0039   206.0039   228.0039  ]\n",
            "  [182.0039   207.0039   229.0039  ]\n",
            "  [184.       209.       231.      ]\n",
            "  [184.       209.       231.      ]\n",
            "  [184.       209.       231.      ]\n",
            "  [184.       209.       231.      ]\n",
            "  [182.9961   207.9961   229.9961  ]\n",
            "  [174.9961   201.9961   222.9961  ]\n",
            "  [168.9961   195.9961   216.9961  ]\n",
            "  [158.99219  185.99219  206.99219 ]\n",
            "  [143.9961   168.9961   190.9961  ]\n",
            "  [131.9961   148.98828  168.98438 ]\n",
            "  [115.98828  126.97266  132.97266 ]\n",
            "  [106.98047  102.984375  99.97656 ]\n",
            "  [ 98.99219   95.984375  90.98047 ]\n",
            "  [ 97.99219   95.99219   83.98828 ]\n",
            "  [ 97.99219   91.99219   77.99219 ]\n",
            "  [ 98.99609   91.99609   75.99609 ]\n",
            "  [ 99.        92.        74.      ]\n",
            "  [102.        95.        77.      ]\n",
            "  [112.99609  103.99609   86.99609 ]\n",
            "  [125.99609  113.99609   99.99609 ]\n",
            "  [133.99219  119.99219  108.99219 ]\n",
            "  [139.99219  127.99219  113.99219 ]\n",
            "  [143.9961   131.9961   117.99609 ]\n",
            "  [143.9961   131.9961   117.99609 ]\n",
            "  [142.       128.       119.      ]\n",
            "  [135.0039   122.00391  113.00391 ]\n",
            "  [122.00391  114.00391  103.00391 ]\n",
            "  [112.00391  103.00391   94.00391 ]\n",
            "  [102.00391   95.00391   87.00391 ]\n",
            "  [ 91.        86.        80.      ]\n",
            "  [ 83.        78.        72.      ]\n",
            "  [ 75.00391   70.00391   64.00391 ]\n",
            "  [ 69.        64.        58.      ]\n",
            "  [ 61.        58.        51.      ]\n",
            "  [ 59.        54.        51.      ]\n",
            "  [ 61.996094  52.996094  55.996094]\n",
            "  [ 62.996094  49.996094  58.996094]\n",
            "  [ 61.        49.        53.      ]\n",
            "  [ 60.        48.        52.      ]\n",
            "  [ 59.        47.        51.      ]\n",
            "  [ 57.        45.        49.      ]\n",
            "  [ 55.        45.        44.      ]\n",
            "  [ 50.996094  43.996094  37.996094]\n",
            "  [ 45.996094  42.996094  35.996094]\n",
            "  [ 45.996094  42.996094  33.996094]\n",
            "  [ 45.        43.        31.      ]\n",
            "  [ 46.        44.        31.      ]\n",
            "  [ 48.        46.        33.      ]\n",
            "  [ 48.        46.        33.      ]\n",
            "  [ 49.003906  47.003906  34.003906]\n",
            "  [ 57.003906  55.003906  42.003906]\n",
            "  [ 63.007812  61.007812  48.007812]\n",
            "  [ 71.01172   69.01172   56.01172 ]\n",
            "  [ 75.01172   73.01172   61.01172 ]\n",
            "  [ 77.00781   75.00781   63.007812]\n",
            "  [ 78.00391   76.00391   64.00391 ]\n",
            "  [ 77.00391   75.00391   63.003906]\n",
            "  [ 74.00781   72.00781   59.007812]\n",
            "  [ 73.00391   71.00391   56.003906]\n",
            "  [ 77.00391   71.00391   55.003906]\n",
            "  [ 82.        76.        60.      ]\n",
            "  [ 85.00391   79.00391   63.003906]\n",
            "  [ 88.        82.        70.      ]\n",
            "  [ 88.        81.        71.      ]\n",
            "  [ 85.        82.        75.      ]\n",
            "  [ 83.        80.        73.      ]\n",
            "  [ 77.99609   76.99609   71.99609 ]\n",
            "  [ 74.99609   73.99609   69.99609 ]\n",
            "  [ 72.        71.        69.      ]\n",
            "  [ 70.        69.        65.      ]\n",
            "  [ 69.        68.        64.      ]\n",
            "  [ 69.        68.        64.      ]\n",
            "  [ 70.        69.        65.      ]\n",
            "  [ 71.        70.        66.      ]\n",
            "  [ 70.        69.        65.      ]\n",
            "  [ 69.99609   68.99609   66.99609 ]\n",
            "  [ 68.        67.        65.      ]\n",
            "  [ 66.        65.        63.      ]\n",
            "  [ 64.        63.        59.      ]\n",
            "  [ 63.        62.        58.      ]\n",
            "  [ 63.        62.        58.      ]\n",
            "  [ 65.        64.        60.      ]\n",
            "  [ 69.00391   70.00391   65.00391 ]\n",
            "  [ 78.00391   78.00391   69.99609 ]\n",
            "  [ 89.00781   87.00781   75.00781 ]\n",
            "  [103.00391   97.00391   83.00391 ]\n",
            "  [113.01172  106.01172   90.01172 ]\n",
            "  [123.00781  114.00781   97.00781 ]\n",
            "  [135.01172  124.01172  102.01172 ]\n",
            "  [144.00781  133.00781  111.00781 ]\n",
            "  [149.0039   138.0039   116.00391 ]\n",
            "  [149.00781  137.00781  111.00781 ]\n",
            "  [147.0039   135.0039   111.00391 ]\n",
            "  [145.0039   133.0039   111.00391 ]\n",
            "  [140.0039   127.00391  108.00391 ]\n",
            "  [130.0039   119.00391  101.00391 ]\n",
            "  [118.00391  108.00391   96.00391 ]\n",
            "  [108.       100.        89.      ]\n",
            "  [ 99.        93.        79.      ]\n",
            "  [ 96.99609   90.99609   76.99609 ]\n",
            "  [ 94.        88.        74.      ]\n",
            "  [ 90.99609   84.99609   72.99609 ]\n",
            "  [ 92.        86.        74.      ]\n",
            "  [ 93.        87.        75.      ]]\n",
            "\n",
            " [[156.01172  187.01172  216.01172 ]\n",
            "  [157.02344  188.02344  217.02344 ]\n",
            "  [159.01172  190.01172  219.01172 ]\n",
            "  [162.       191.       221.      ]\n",
            "  [163.       192.       222.      ]\n",
            "  [164.01172  193.01172  223.01172 ]\n",
            "  [167.01172  194.01172  223.01172 ]\n",
            "  [168.01172  195.01172  224.01172 ]\n",
            "  [169.       196.       225.      ]\n",
            "  [170.01172  197.01172  226.01172 ]\n",
            "  [171.01172  198.01172  225.01172 ]\n",
            "  [172.       199.       226.      ]\n",
            "  [173.       200.       227.      ]\n",
            "  [175.       201.       226.      ]\n",
            "  [176.       202.       227.      ]\n",
            "  [177.       203.       228.      ]\n",
            "  [177.       203.       228.      ]\n",
            "  [178.98828  204.98828  229.98828 ]\n",
            "  [179.       205.       230.      ]\n",
            "  [181.       205.       229.      ]\n",
            "  [182.       206.       230.      ]\n",
            "  [182.       206.       230.      ]\n",
            "  [183.       208.       230.      ]\n",
            "  [184.       209.       231.      ]\n",
            "  [184.98828  209.98828  231.98828 ]\n",
            "  [184.97656  209.97656  231.97656 ]\n",
            "  [186.       207.98828  230.96484 ]\n",
            "  [185.       206.98828  229.96484 ]\n",
            "  [180.01172  202.       224.97656 ]\n",
            "  [173.01172  194.98828  218.98828 ]\n",
            "  [167.01172  186.98828  210.96484 ]\n",
            "  [154.02344  175.       193.97656 ]\n",
            "  [138.       158.97656  177.92969 ]\n",
            "  [125.98828  136.95312  142.91797 ]\n",
            "  [109.       105.98828   98.96484 ]\n",
            "  [101.01172   93.        79.97656 ]\n",
            "  [ 99.03516   91.02344   78.      ]\n",
            "  [ 99.        91.97656   73.98828 ]\n",
            "  [ 98.97656   90.97656   77.97656 ]\n",
            "  [ 99.        92.        76.      ]\n",
            "  [ 99.        92.        74.      ]\n",
            "  [101.96484   94.96484   76.96484 ]\n",
            "  [109.98828  100.98828   85.98828 ]\n",
            "  [120.01172  108.01172   96.01172 ]\n",
            "  [131.01172  117.01172  108.01172 ]\n",
            "  [138.02344  126.01172  114.046875]\n",
            "  [143.       130.98828  119.02344 ]\n",
            "  [146.01172  134.       122.03516 ]\n",
            "  [144.02344  130.02344  121.02344 ]\n",
            "  [138.98828  125.98828  116.98828 ]\n",
            "  [128.01172  120.01172  109.01172 ]\n",
            "  [115.02344  106.02344   97.02344 ]\n",
            "  [105.01172   98.01172   90.01172 ]\n",
            "  [ 92.98828   87.98828   81.98828 ]\n",
            "  [ 82.98828   79.98828   72.98828 ]\n",
            "  [ 76.        73.        66.      ]\n",
            "  [ 68.01172   65.01172   58.01172 ]\n",
            "  [ 61.        58.        51.      ]\n",
            "  [ 59.        54.        51.      ]\n",
            "  [ 60.023438  51.023438  54.023438]\n",
            "  [ 61.01172   48.01172   57.01172 ]\n",
            "  [ 60.        48.        52.      ]\n",
            "  [ 60.01172   48.01172   52.01172 ]\n",
            "  [ 59.        47.        51.      ]\n",
            "  [ 56.        46.        47.      ]\n",
            "  [ 53.98828   45.98828   42.98828 ]\n",
            "  [ 45.98828   41.98828   32.98828 ]\n",
            "  [ 42.98828   40.        30.964844]\n",
            "  [ 42.98828   40.98828   28.976562]\n",
            "  [ 43.98828   41.98828   28.964844]\n",
            "  [ 46.        44.        31.      ]\n",
            "  [ 48.035156  46.035156  33.035156]\n",
            "  [ 51.046875  49.046875  36.046875]\n",
            "  [ 58.046875  56.046875  43.046875]\n",
            "  [ 70.01172   66.01172   54.01172 ]\n",
            "  [ 76.03516   72.03516   60.035156]\n",
            "  [ 84.05859   80.05859   68.05859 ]\n",
            "  [ 87.03516   85.03516   73.03516 ]\n",
            "  [ 85.05859   83.05859   71.05859 ]\n",
            "  [ 86.02344   84.02344   72.02344 ]\n",
            "  [ 83.02344   80.02344   71.046875]\n",
            "  [ 81.01172   79.        67.03516 ]\n",
            "  [ 79.02344   77.02344   64.02344 ]\n",
            "  [ 83.01172   77.01172   63.035156]\n",
            "  [ 84.02344   78.02344   64.046875]\n",
            "  [ 88.        82.        68.02344 ]\n",
            "  [ 89.98828   82.98828   72.98828 ]\n",
            "  [ 90.01172   83.01172   73.01172 ]\n",
            "  [ 85.        82.        75.      ]\n",
            "  [ 83.        80.        73.      ]\n",
            "  [ 76.        75.        70.      ]\n",
            "  [ 73.01172   72.01172   68.01172 ]\n",
            "  [ 71.        70.        68.      ]\n",
            "  [ 70.        69.        65.      ]\n",
            "  [ 69.        68.        64.      ]\n",
            "  [ 69.        68.        64.      ]\n",
            "  [ 69.        68.        64.      ]\n",
            "  [ 69.98828   68.98828   64.98828 ]\n",
            "  [ 69.        68.        64.      ]\n",
            "  [ 67.98828   66.98828   62.98828 ]\n",
            "  [ 66.98828   65.98828   61.98828 ]\n",
            "  [ 64.98828   63.98828   59.98828 ]\n",
            "  [ 63.        62.        58.      ]\n",
            "  [ 62.        61.        57.      ]\n",
            "  [ 63.        62.        58.      ]\n",
            "  [ 65.02344   64.02344   60.023438]\n",
            "  [ 72.03516   71.01172   65.98828 ]\n",
            "  [ 83.02344   80.01172   70.98828 ]\n",
            "  [ 96.03516   92.01172   79.98828 ]\n",
            "  [112.03516  106.02344   90.02344 ]\n",
            "  [127.02344  118.03516  101.01172 ]\n",
            "  [135.0586   127.02344  108.03516 ]\n",
            "  [145.98828  134.98828  112.98828 ]\n",
            "  [150.98828  139.98828  117.98828 ]\n",
            "  [152.01172  141.01172  119.01172 ]\n",
            "  [150.98828  139.01172  115.      ]\n",
            "  [144.98828  133.       111.      ]\n",
            "  [143.98828  131.01172  112.      ]\n",
            "  [139.98828  128.98828  110.98828 ]\n",
            "  [130.97656  119.01172  103.02344 ]\n",
            "  [118.98828  110.98828   99.98828 ]\n",
            "  [107.96484  100.96484   90.96484 ]\n",
            "  [ 96.97656   92.97656   82.      ]\n",
            "  [ 92.01172   88.01172   77.03516 ]\n",
            "  [ 89.98828   85.98828   75.01172 ]\n",
            "  [ 86.98828   82.97656   74.01172 ]\n",
            "  [ 89.97656   85.96484   77.      ]\n",
            "  [ 91.        86.98828   78.02344 ]]]\n"
          ]
        }
      ]
    },
    {
      "cell_type": "code",
      "source": [
        "train_ds = train_ds.map(process_image)\n",
        "test_ds = test_ds.map(process_image)"
      ],
      "metadata": {
        "id": "d6aOSklX8OGe"
      },
      "execution_count": null,
      "outputs": []
    },
    {
      "cell_type": "code",
      "source": [
        "for image, label in train_ds.take(1):\n",
        "    print(\"Label:\", label)\n",
        "    print('Image:', image)"
      ],
      "metadata": {
        "colab": {
          "base_uri": "https://localhost:8080/"
        },
        "id": "6I2oc5qh8bER",
        "outputId": "e6c88d4c-b60c-4a28-9534-38f1725b7e47"
      },
      "execution_count": null,
      "outputs": [
        {
          "output_type": "stream",
          "name": "stdout",
          "text": [
            "Label: tf.Tensor(b'dog', shape=(), dtype=string)\n",
            "Image: tf.Tensor(\n",
            "[[[3.73476562e+01 3.43476562e+01 1.34765625e+00]\n",
            "  [4.10000000e+01 3.90000000e+01 0.00000000e+00]\n",
            "  [4.43984375e+01 4.32941589e+01 2.08557129e-01]\n",
            "  ...\n",
            "  [1.72941589e+01 3.02941589e+01 2.94158936e-01]\n",
            "  [1.49570312e+01 2.50859375e+01 0.00000000e+00]\n",
            "  [1.31385193e+01 2.27460938e+01 3.92425537e-01]]\n",
            "\n",
            " [[3.98725891e+01 3.68725891e+01 5.87258911e+00]\n",
            "  [4.20083923e+01 4.00083923e+01 2.00839233e+00]\n",
            "  [4.89335938e+01 4.69335938e+01 5.93359375e+00]\n",
            "  ...\n",
            "  [2.11289062e+01 3.51289062e+01 1.73828125e+00]\n",
            "  [1.80083923e+01 2.83326111e+01 8.04687500e-01]\n",
            "  [1.60679016e+01 2.60679016e+01 1.45703125e+00]]\n",
            "\n",
            " [[3.83425598e+01 3.53425598e+01 1.65267944e+00]\n",
            "  [4.99843750e+01 4.79843750e+01 8.90658569e+00]\n",
            "  [5.19843750e+01 5.09843750e+01 5.00000000e+00]\n",
            "  ...\n",
            "  [2.67362366e+01 4.07362366e+01 4.73623657e+00]\n",
            "  [2.28710938e+01 3.40000000e+01 1.91406250e+00]\n",
            "  [1.83503723e+01 2.93503723e+01 2.71606445e-03]]\n",
            "\n",
            " ...\n",
            "\n",
            " [[3.94331055e+01 5.01265564e+01 1.01928711e-01]\n",
            "  [4.66390381e+01 7.06312256e+01 1.23190308e+00]\n",
            "  [5.35765991e+01 8.05140991e+01 3.66256714e+00]\n",
            "  ...\n",
            "  [8.06519775e+01 1.02212433e+02 2.29914551e+01]\n",
            "  [8.04027405e+01 1.02372498e+02 2.92634583e+01]\n",
            "  [9.43571777e+01 1.25361938e+02 3.20401001e+01]]\n",
            "\n",
            " [[3.66087036e+01 5.90158691e+01 2.03704834e-01]\n",
            "  [6.94489441e+01 9.08797913e+01 1.47414856e+01]\n",
            "  [5.31766663e+01 7.19416199e+01 1.56250000e+00]\n",
            "  ...\n",
            "  [4.95632019e+01 7.72155457e+01 8.18316650e+00]\n",
            "  [5.28262024e+01 7.38140564e+01 4.67300415e+00]\n",
            "  [9.55087280e+01 1.21483795e+02 4.81166077e+01]]\n",
            "\n",
            " [[1.16128632e+02 1.42817932e+02 2.95117493e+01]\n",
            "  [4.40772095e+01 6.90772095e+01 6.27075195e-01]\n",
            "  [9.37951660e+01 1.10971283e+02 1.13741455e+01]\n",
            "  ...\n",
            "  [1.00512756e+02 1.26617035e+02 5.62026367e+01]\n",
            "  [2.97848511e+01 5.29083557e+01 6.61163330e+00]\n",
            "  [5.08223877e+01 7.41718445e+01 7.71090698e+00]]], shape=(128, 128, 3), dtype=float32)\n"
          ]
        }
      ]
    },
    {
      "cell_type": "markdown",
      "source": [
        "# Image Classification using tf.Data"
      ],
      "metadata": {
        "id": "XKCq9WqGv2zX"
      }
    },
    {
      "cell_type": "code",
      "source": [
        "!unzip \"/content/codebasics deep-learning-keras-tf-tutorial master 44_tf_data_pipeline-images.zip\""
      ],
      "metadata": {
        "id": "fEUzA5lw8jm5",
        "colab": {
          "base_uri": "https://localhost:8080/"
        },
        "outputId": "3999c92a-17cf-4c5f-d5ca-44b176af352f"
      },
      "execution_count": 3,
      "outputs": [
        {
          "output_type": "stream",
          "name": "stdout",
          "text": [
            "Archive:  /content/codebasics deep-learning-keras-tf-tutorial master 44_tf_data_pipeline-images.zip\n",
            "   creating: cat/\n",
            " extracting: cat/The Joys of Owning a Cat - HelpGuide.org.jpg  \n",
            "   creating: dog/\n",
            " extracting: dog/Canine Mind....jpg  \n",
            " extracting: dog/9 Reasons to Own a Dog.jpg  \n",
            " extracting: dog/356 Free Dog Stock Photos - CC0 Images.jpg  \n",
            " extracting: cat/What to do if your cat is marking....jpg  \n",
            " extracting: dog/Aggression in dogs _ Animal Humane Society.jpg  \n",
            " extracting: dog/How dogs contribute to your health and....jpg  \n",
            " extracting: dog/The 25 Cutest Dog Breeds - Most....jpg  \n",
            " extracting: dog/How to make your dog feel comfortable....jpg  \n",
            " extracting: dog/The US Army is testing augmented....jpg  \n",
            " extracting: dog/The 20 Best Dog Breeds for Runners....jpg  \n",
            " extracting: dog/45 Best Large Dog Breeds - Top Big Dogs_yyth....jpg  \n",
            " extracting: cat/All About Your Cat_s Tongue.jpg  \n",
            " extracting: dog/Dog Breed Chart....jpg  \n",
            " extracting: dog/How Many Dog Breeds Are There_ _ Hill_s Pet.jpg  \n",
            " extracting: cat/The Science-Backed Benefits of Being a....jpg  \n",
            " extracting: dog/Southeastern Guide Dogs - YouTube.jpg  \n",
            " extracting: cat/Why Cats Sniff Rear Ends _ VCA Animal....png  \n",
            " extracting: dog/Best Hypoallergenic Dogs [Updated....jpg  \n",
            " extracting: cat/What does the COVID-19 summer surge....jpg  \n",
            " extracting: cat/Why Do Cats Hate Water_ _ Britannica.jpg  \n",
            " extracting: dog/Colitis in Dogs _ VCA Animal Hospital.jpg  \n",
            " extracting: dog/Dog Breeds Banned By Home Insurance....jpg  \n",
            " extracting: dog/15 Amazing Facts About Dogs That Will....jpg  \n",
            " extracting: dog/Dog - Role in human societies _ Britannica.jpg  \n",
            " extracting: dog/Hong Kong dog causes panic – but here_s... (1).jpg  \n",
            " extracting: dog/Largest Dog Breeds – American Kennel Club.jpg  \n",
            " extracting: dog/7 Tips on Canine Body Language _ ASPCApro.jpg  \n",
            " extracting: dog/Carolina Dog Dog Breed Information....jpg  \n",
            " extracting: cat/20 Reasons Why Cats Make the Best Pets....jpg  \n",
            " extracting: cat/Urine Marking in Cats _ ASPCA.jpg  \n",
            " extracting: dog/10 Teacup Dog Breeds for Tiny Canine Lovers.jpg  \n",
            " extracting: dog/25 Best Small Dog Breeds — Cute and....jpg  \n",
            " extracting: dog/25 Low-Maintenance Dog Breeds for....jpg  \n",
            " extracting: dog/2nd pet dog tests positive for COVID-19....jpg  \n",
            " extracting: dog/20 must-have products for new dog owners.jpg  \n",
            " extracting: dog/50 dog breeds and their history that....jpg  \n",
            " extracting: dog/Ancient dog DNA reveals 11_000 years of....jpg  \n",
            " extracting: dog/Best Dog & Puppy Health Insurance Plans....jpg  \n",
            " extracting: dog/Are Dogs Really Color-Blind_ _ Britannica.jpg  \n",
            " extracting: dog/Body Condition Score....jpg  \n",
            " extracting: dog/Common Dog Breeds and Their Health Issues.jpg  \n",
            " extracting: dog/Dogs caught coronavirus from their....jpg  \n",
            " extracting: dog/Dog collars _ The Humane Society of the....jpg  \n",
            " extracting: dog/Germany_ Dogs must be walked twice a....jpg  \n",
            " extracting: dog/Genes contribute to dog breeds_ iconic....jpg  \n",
            " extracting: dog/AKC Pet Insurance _ Health Insurance....png  \n",
            " extracting: dog/Great Dane - Wikipedia.jpg  \n",
            " extracting: dog/50 Cutest Dog Breeds as Puppies....jpg  \n",
            " extracting: cat/Want your cat to stay in purrrfect....jpg  \n",
            " extracting: dog/66 gifts for dogs or dog lovers to get_yythk....jpg  \n",
            " extracting: dog/Calculate Your Dog_s Age With This New....jpg  \n",
            " extracting: cat/Thinking of getting a cat....png  \n",
            " extracting: dog/100_ Dogs Pictures _ Download Free....jpg  \n",
            " extracting: dog/11 Things Humans Do That Dogs Hate.jpg  \n",
            " extracting: dog/8 amazing Indian dog breeds that....png  \n",
            " extracting: dog/Dogs _ Healthy Pets_ Healthy People _ CDC.jpg  \n",
            " extracting: dog/Haunted Victorian Child_ Dog....jpg  \n",
            " extracting: dog/Hong Kong dog causes panic – but here_s....jpg  \n",
            " extracting: dog/How My Dog Knows When I_m Sick - The....jpg  \n",
            " extracting: dog/Cats and Dogs.jpg   \n",
            " extracting: dog/Hot dogs_ what soaring puppy thefts....jpg  \n",
            " extracting: dog/First dog Major back at White House....jpg  \n",
            " extracting: dog/Important Things Every Dog Owner Should....jpg  \n",
            " extracting: dog/List of Dog Breeds _ Petfinder.jpg  \n",
            " extracting: dog/Maltese Dog Breed Information_ Pictures....jpg  \n",
            " extracting: dog/Most Popular Breeds – American Kennel Club.jpg  \n",
            " extracting: dog/How To Read Your Dog_s Body Language....png  \n",
            " extracting: dog/Modern Dog magazine _ the best dog....jpg  \n",
            " extracting: dog/List of dog breeds - Wikipedia.jpg  \n",
            " extracting: dog/Mood-Boosting Benefits of Pets....jpg  \n",
            " extracting: dog/Most Expensive Dog Breeds For Pet....png  \n",
            " extracting: dog/Most Popular Dog Names of 2020....jpg  \n",
            " extracting: dog/Rescue turns dog with untreatable tumor....jpg  \n",
            " extracting: dog/Rottweiler Dog Breed Information....jpg  \n",
            " extracting: dog/Science_ Talking to Your Dog Means You....jpg  \n",
            " extracting: dog/Soi Dog Foundation _ Ending The... (1).jpg  \n",
            " extracting: dog/Service Dogs from Southeastern Guide Dogs.jpg  \n",
            " extracting: dog/Most Popular Dog Breeds According....jpg  \n",
            " extracting: dog/Soi Dog Foundation _ Ending The....jpg  \n",
            " extracting: dog/The Best Dogs of BBC Earth _ Top 5....jpg  \n",
            " extracting: dog/Subaru Shows Love for Dogs Through the....jpg  \n",
            " extracting: dog/The Black Dog Tavern Company _ Life off....jpg  \n",
            " extracting: dog/The History of Dogs as Pets - ABC News.jpg  \n",
            " extracting: dog/The Importance of Walking Your Dog....jpg  \n",
            " extracting: dog/Top 10 Smartest Dog Breeds - Most....jpg  \n",
            " extracting: dog/Those Puppy Dog Eyes You Can_t Resist....jpg  \n",
            " extracting: dog/Trained dogs can smell coronavirus in....jpg  \n",
            " extracting: dog/Puppy Dog Pictures _ Download Free....jpg  \n",
            " extracting: dog/Welcoming Your Adopted Dog Into Your....jpg  \n",
            " extracting: dog/What makes dogs so special and....jpg  \n",
            " extracting: dog/Which Pop Culture Dog Is Best in Show....jpg  \n",
            " extracting: dog/Why Grumpy Dogs Outperform Friendly....jpg  \n",
            " extracting: dog/best dog treats_ according to veterinarians.jpg  \n",
            " extracting: dog/been calculating dog years wrong....jpg  \n",
            " extracting: dog/convert dog years to human years....jpg  \n",
            " extracting: dog/dog existed at the end of the Ice Age_yythkg....jpg  \n",
            " extracting: dog/The Cost of Owning a Dog.jpg  \n",
            " extracting: dog/scientists explain puppy dog eyes....jpg  \n",
            " extracting: dog/real_ age_ you_ll need a calculator....jpg  \n",
            " extracting: dog/why dogs understand our body language....jpg  \n",
            " extracting: cat/7 Foods Your Cat Can_t Eat.jpg  \n",
            " extracting: cat/A cat appears to have caught the....jpg  \n",
            " extracting: cat/Alley Cat Allies _ An Advocacy....jpg  \n",
            " extracting: cat/Adopt-A-Cat Month® - American Humane....jpg  \n",
            " extracting: cat/Cat Throwing Up_ Normal or Cause for....jpg  \n",
            " extracting: cat/Cat Advice _ Collecting a Urine Sample....jpg  \n",
            " extracting: cat/Are Cats Domesticated_ _ The New Yorker.jpg  \n",
            " extracting: cat/Cats Care About People More Than Food....jpg  \n",
            " extracting: cat/Cat intelligence - Wikipedia.jpg  \n",
            " extracting: cat/Cats _ The Humane Society of the United....jpg  \n",
            " extracting: cat/China_s First Cloned Kitten_ Garlic....png  \n",
            " extracting: cat/Famous Cat Performances in Movies_ Ranked.jpg  \n",
            " extracting: cat/Home_ sweet home_ How to bring an....jpg  \n",
            " extracting: cat/Giving cats food with an antibody may....jpg  \n",
            " extracting: cat/Cats really do need their humans_ even....jpg  \n",
            " extracting: cat/International Cat Care _ The ultimate....jpg  \n",
            " extracting: cat/How to Determine Your Cat_s Age.jpg  \n",
            " extracting: cat/Learn what to do with Stray and Feral....jpg  \n",
            " extracting: cat/How to buy the best cat food_ according....jpg  \n",
            " extracting: cat/New Cat Checklist 2021_ Supplies for....jpg  \n",
            " extracting: cat/Orlando Cat Café.png  \n",
            " extracting: cat/Is My Cat Normal_.jpg  \n",
            " extracting: cat/Reality check_ Can cat poop cause....jpg  \n",
            " extracting: cat/Pet Insurance for Cats & Kittens _ Petplan.png  \n",
            " extracting: cat/Soon_ the internet will make its own....jpg  \n",
            " extracting: cat/Texas lawyer accidentally uses cat....jpg  \n",
            " extracting: cat/The 10 Best Types of Cat _ Britannica.jpg  \n",
            " extracting: cat/The Cat Health Checklist_ Everything....jpg  \n",
            " extracting: cat/Stray Cat Alliance » Building a No Kill....jpg  \n"
          ]
        }
      ]
    },
    {
      "cell_type": "code",
      "source": [
        "!mkdir images\n",
        "!mv cat/ images/\n",
        "!mv dog/ images/"
      ],
      "metadata": {
        "id": "efdizBlYv9ac"
      },
      "execution_count": 4,
      "outputs": []
    },
    {
      "cell_type": "code",
      "source": [
        "#to check proper images available in the folder https://stackoverflow.com/questions/65438156/tensorflow-keras-error-unknown-image-file-format-one-of-jpeg-png-gif-bmp-re\n",
        "import os\n",
        "import cv2\n",
        "import imghdr\n",
        "\n",
        "def check_images( s_dir, ext_list):\n",
        "    bad_images=[]\n",
        "    bad_ext=[]\n",
        "    s_list= os.listdir(s_dir)\n",
        "    for klass in s_list:\n",
        "        klass_path=os.path.join (s_dir, klass)\n",
        "        print ('processing class directory ', klass)\n",
        "        if os.path.isdir(klass_path):\n",
        "            file_list=os.listdir(klass_path)\n",
        "            for f in file_list:\n",
        "                if not f.endswith('.ipynb_checkpoints'):         \n",
        "                    f_path=os.path.join (klass_path,f)\n",
        "                    tip = imghdr.what(f_path)\n",
        "                    if ext_list.count(tip) == 0:\n",
        "                      bad_images.append(f_path)\n",
        "                    if os.path.isfile(f_path):\n",
        "                        try:\n",
        "                            img=cv2.imread(f_path)\n",
        "                            shape=img.shape\n",
        "                        except:\n",
        "                            print('file ', f_path, ' is not a valid image file')\n",
        "                            bad_images.append(f_path)\n",
        "                    else:\n",
        "                        print('*** fatal error, you a sub directory ', f, ' in class directory ', klass)\n",
        "        else:\n",
        "            print ('*** WARNING*** you have files in ', s_dir, ' it should only contain sub directories')\n",
        "    return bad_images, bad_ext\n",
        "\n",
        "source_dir = \"/content/images\"\n",
        "good_exts=['jpg', 'png', 'jpeg', 'gif', 'bmp' ] # list of acceptable extensions\n",
        "bad_file_list, bad_ext_list=check_images(source_dir, good_exts)\n",
        "if len(bad_file_list) !=0:\n",
        "    print('improper image files are listed below')\n",
        "    for i in range (len(bad_file_list)):\n",
        "        print (bad_file_list[i])\n",
        "else:\n",
        "    print(' no improper image files were found')"
      ],
      "metadata": {
        "colab": {
          "base_uri": "https://localhost:8080/"
        },
        "id": "xjpU9BnR0uH5",
        "outputId": "4aa14afa-8b2b-4f97-9717-10bb53e82e9c"
      },
      "execution_count": 16,
      "outputs": [
        {
          "output_type": "stream",
          "name": "stdout",
          "text": [
            "processing class directory  cat\n",
            "processing class directory  dog\n",
            " no improper image files were found\n"
          ]
        }
      ]
    },
    {
      "cell_type": "code",
      "source": [
        "#import libraries\n",
        "import tensorflow as tf\n",
        "from tensorflow.keras import models, layers\n",
        "import matplotlib.pyplot as plt\n",
        "%matplotlib inline"
      ],
      "metadata": {
        "id": "2bdMpo9awJ-t"
      },
      "execution_count": 1,
      "outputs": []
    },
    {
      "cell_type": "code",
      "source": [
        "#setting the constants\n",
        "BATCH_SIZE = 4\n",
        "IMAGE_SIZE = 256\n",
        "CHANNEL = 3\n",
        "EPOCHS = 10"
      ],
      "metadata": {
        "id": "xGl-6za6wb4x"
      },
      "execution_count": 2,
      "outputs": []
    },
    {
      "cell_type": "code",
      "source": [
        "dataset = tf.keras.preprocessing.image_dataset_from_directory('images',\n",
        "                                                              seed=123,\n",
        "                                                              shuffle=True,\n",
        "                                                              image_size = (IMAGE_SIZE,IMAGE_SIZE),\n",
        "                                                              batch_size=BATCH_SIZE)"
      ],
      "metadata": {
        "colab": {
          "base_uri": "https://localhost:8080/"
        },
        "id": "EOq1dtAvws8H",
        "outputId": "c21e7d6b-92e5-4712-8c74-d9240f95ab0d"
      },
      "execution_count": 3,
      "outputs": [
        {
          "output_type": "stream",
          "name": "stdout",
          "text": [
            "Found 124 files belonging to 2 classes.\n"
          ]
        }
      ]
    },
    {
      "cell_type": "code",
      "source": [
        "CLASS_NAMES = dataset.class_names\n",
        "print(CLASS_NAMES)"
      ],
      "metadata": {
        "colab": {
          "base_uri": "https://localhost:8080/"
        },
        "id": "OXJNMRy9yseb",
        "outputId": "8a4279a8-4129-4ecf-a19e-c2221864a3d1"
      },
      "execution_count": 4,
      "outputs": [
        {
          "output_type": "stream",
          "name": "stdout",
          "text": [
            "['cat', 'dog']\n"
          ]
        }
      ]
    },
    {
      "cell_type": "code",
      "source": [
        "for image_batch, label_batch in dataset.take(1):\n",
        "    print(image_batch.shape)\n",
        "    print(label_batch.numpy())"
      ],
      "metadata": {
        "colab": {
          "base_uri": "https://localhost:8080/"
        },
        "id": "KlUEDP1ny05i",
        "outputId": "f926fd2d-7135-40b9-90bf-4d7169a0793e"
      },
      "execution_count": 5,
      "outputs": [
        {
          "output_type": "stream",
          "name": "stdout",
          "text": [
            "(4, 256, 256, 3)\n",
            "[1 1 1 0]\n"
          ]
        }
      ]
    },
    {
      "cell_type": "code",
      "source": [
        "#split the dataset\n",
        "len(dataset)"
      ],
      "metadata": {
        "colab": {
          "base_uri": "https://localhost:8080/"
        },
        "id": "PBUNzK8ay9Ve",
        "outputId": "7d6b2c7f-f554-4c25-d551-745f3845ab75"
      },
      "execution_count": 48,
      "outputs": [
        {
          "output_type": "execute_result",
          "data": {
            "text/plain": [
              "31"
            ]
          },
          "metadata": {},
          "execution_count": 48
        }
      ]
    },
    {
      "cell_type": "code",
      "source": [
        "# 80% - train, 10% - val, 10% - test\n",
        "print(\"train size:\",int(0.8*31))\n",
        "print(\"val size:\", int(31*0.1)) \n",
        "print(\"test size:\", int(31*0.1))"
      ],
      "metadata": {
        "colab": {
          "base_uri": "https://localhost:8080/"
        },
        "id": "8HBonHZI32wW",
        "outputId": "e00afedf-8b6c-4a1d-9b70-1a6e1b80eae4"
      },
      "execution_count": 46,
      "outputs": [
        {
          "output_type": "stream",
          "name": "stdout",
          "text": [
            "train size: 24\n",
            "val size: 3\n",
            "test size: 3\n"
          ]
        }
      ]
    },
    {
      "cell_type": "code",
      "source": [
        "def get_dataset_partitions_tf(ds, train_split=0.8, val_split=0.1, test_split=0.1, shuffle=True, shuffle_size=10):\n",
        "    assert (train_split + test_split + val_split)==1\n",
        "\n",
        "    ds_size = len(ds)\n",
        "\n",
        "    if shuffle:\n",
        "        ds = ds.shuffle(shuffle_size, seed=0)\n",
        "    \n",
        "    train_size = int(train_split * ds_size)\n",
        "    val_size = int(val_split * ds_size)\n",
        "\n",
        "    train_ds = ds.take(train_size)\n",
        "    val_ds = ds.skip(train_size).take(val_size)\n",
        "    test_ds = ds.skip(train_size).skip(val_size)\n",
        "    return train_ds, val_ds, test_ds\n",
        "\n",
        "train_ds, val_ds, test_ds = get_dataset_partitions_tf(dataset)"
      ],
      "metadata": {
        "id": "ipxgpNhH2pVg"
      },
      "execution_count": 6,
      "outputs": []
    },
    {
      "cell_type": "code",
      "source": [
        "print(len(train_ds))\n",
        "print(len(val_ds))\n",
        "print(len(test_ds))"
      ],
      "metadata": {
        "colab": {
          "base_uri": "https://localhost:8080/"
        },
        "id": "tBjIV8OT7KRQ",
        "outputId": "f39f6f30-d818-4247-cf56-9d12b85d68bc"
      },
      "execution_count": 7,
      "outputs": [
        {
          "output_type": "stream",
          "name": "stdout",
          "text": [
            "24\n",
            "3\n",
            "4\n"
          ]
        }
      ]
    },
    {
      "cell_type": "code",
      "source": [
        "#cache, shuffle and prefetch the dataset\n",
        "train_ds = train_ds.cache().shuffle(10).prefetch(buffer_size=tf.data.AUTOTUNE)\n",
        "val_ds = val_ds.cache().shuffle(10).prefetch(buffer_size=tf.data.AUTOTUNE)\n",
        "test_ds = test_ds.cache().shuffle(10).prefetch(buffer_size=tf.data.AUTOTUNE)"
      ],
      "metadata": {
        "id": "5fVxhca57eas"
      },
      "execution_count": 8,
      "outputs": []
    },
    {
      "cell_type": "code",
      "source": [
        "NUM_CLASSES = 2\n",
        "CHANNELS = 3\n",
        "resize_and_rescale = tf.keras.Sequential([\n",
        "                            tf.keras.layers.experimental.preprocessing.Resizing(IMAGE_SIZE, IMAGE_SIZE),\n",
        "                            tf.keras.layers.experimental.preprocessing.Rescaling(1./255)\n",
        "                      ])"
      ],
      "metadata": {
        "id": "dnbrEicU78vg"
      },
      "execution_count": 10,
      "outputs": []
    },
    {
      "cell_type": "code",
      "source": [
        "#data augmentation\n",
        "data_augmentation = tf.keras.Sequential([\n",
        "                              tf.keras.layers.experimental.preprocessing.RandomFlip('horizontal_and_vertical'),\n",
        "                              tf.keras.layers.experimental.preprocessing.RandomRotation(0.2)\n",
        "])"
      ],
      "metadata": {
        "id": "IUfGI7m28hc8"
      },
      "execution_count": 11,
      "outputs": []
    },
    {
      "cell_type": "code",
      "source": [
        "# train_ds = train_ds.map(lambda x,y : (data_augmentation(x, training=True), y)\n",
        "# ).prefetch(buffer_size=tf.data.AUTOTUNE)\n",
        "\n",
        "input_shape = (BATCH_SIZE, IMAGE_SIZE, IMAGE_SIZE, CHANNELS)\n",
        "\n",
        "model = tf.keras.Sequential([\n",
        "  resize_and_rescale,\n",
        "  data_augmentation,\n",
        "  layers.Conv2D(16, 3, padding='same', activation='relu'),\n",
        "  layers.MaxPooling2D(),\n",
        "  layers.Conv2D(32, 3, padding='same', activation='relu'),\n",
        "  layers.MaxPooling2D(),\n",
        "  layers.Conv2D(64, 3, padding='same', activation='relu'),\n",
        "  layers.MaxPooling2D(),\n",
        "  layers.Dropout(0.2),\n",
        "  layers.Flatten(),\n",
        "  layers.Dense(128, activation='relu'),\n",
        "  layers.Dense(1, activation='sigmoid')\n",
        "])\n",
        "\n",
        "model.build(input_shape= input_shape)\n",
        "\n",
        "model.summary()"
      ],
      "metadata": {
        "colab": {
          "base_uri": "https://localhost:8080/"
        },
        "id": "_RYTxbV_9Aql",
        "outputId": "9efe795c-b721-4d8b-b42c-3361fdb314f2"
      },
      "execution_count": 13,
      "outputs": [
        {
          "output_type": "stream",
          "name": "stdout",
          "text": [
            "WARNING:tensorflow:Model was constructed with shape (256, 256, 3) for input KerasTensor(type_spec=TensorSpec(shape=(256, 256, 3), dtype=tf.float32, name='resizing_input'), name='resizing_input', description=\"created by layer 'resizing_input'\"), but it was called on an input with incompatible shape (4, 256, 256, 3).\n",
            "WARNING:tensorflow:Model was constructed with shape (256, 256, 3) for input KerasTensor(type_spec=TensorSpec(shape=(256, 256, 3), dtype=tf.float32, name='random_flip_input'), name='random_flip_input', description=\"created by layer 'random_flip_input'\"), but it was called on an input with incompatible shape (4, 256, 256, 3).\n",
            "Model: \"sequential_3\"\n",
            "_________________________________________________________________\n",
            " Layer (type)                Output Shape              Param #   \n",
            "=================================================================\n",
            " sequential (Sequential)     (256, 256, 3)             0         \n",
            "                                                                 \n",
            " sequential_1 (Sequential)   (256, 256, 3)             0         \n",
            "                                                                 \n",
            " conv2d_3 (Conv2D)           (4, 256, 256, 16)         448       \n",
            "                                                                 \n",
            " max_pooling2d_3 (MaxPooling  (4, 128, 128, 16)        0         \n",
            " 2D)                                                             \n",
            "                                                                 \n",
            " conv2d_4 (Conv2D)           (4, 128, 128, 32)         4640      \n",
            "                                                                 \n",
            " max_pooling2d_4 (MaxPooling  (4, 64, 64, 32)          0         \n",
            " 2D)                                                             \n",
            "                                                                 \n",
            " conv2d_5 (Conv2D)           (4, 64, 64, 64)           18496     \n",
            "                                                                 \n",
            " max_pooling2d_5 (MaxPooling  (4, 32, 32, 64)          0         \n",
            " 2D)                                                             \n",
            "                                                                 \n",
            " dropout_1 (Dropout)         (4, 32, 32, 64)           0         \n",
            "                                                                 \n",
            " flatten_1 (Flatten)         (4, 65536)                0         \n",
            "                                                                 \n",
            " dense_2 (Dense)             (4, 128)                  8388736   \n",
            "                                                                 \n",
            " dense_3 (Dense)             (4, 1)                    129       \n",
            "                                                                 \n",
            "=================================================================\n",
            "Total params: 8,412,449\n",
            "Trainable params: 8,412,449\n",
            "Non-trainable params: 0\n",
            "_________________________________________________________________\n"
          ]
        }
      ]
    },
    {
      "cell_type": "code",
      "source": [
        "model.compile(optimizer='adam',\n",
        "              loss=tf.keras.losses.SparseCategoricalCrossentropy(from_logits=True),\n",
        "              metrics=['accuracy'])"
      ],
      "metadata": {
        "id": "925V79pnC_Kn"
      },
      "execution_count": 14,
      "outputs": []
    },
    {
      "cell_type": "code",
      "source": [
        "model.fit(train_ds, epochs=EPOCHS,batch_size=BATCH_SIZE, verbose=1, validation_data = val_ds)"
      ],
      "metadata": {
        "colab": {
          "base_uri": "https://localhost:8080/"
        },
        "id": "CGhL-S-8Eo2K",
        "outputId": "fed53610-6358-41f3-b8bd-9e87a63b36e4"
      },
      "execution_count": 15,
      "outputs": [
        {
          "output_type": "stream",
          "name": "stdout",
          "text": [
            "Epoch 1/10\n",
            "WARNING:tensorflow:Model was constructed with shape (256, 256, 3) for input KerasTensor(type_spec=TensorSpec(shape=(256, 256, 3), dtype=tf.float32, name='resizing_input'), name='resizing_input', description=\"created by layer 'resizing_input'\"), but it was called on an input with incompatible shape (None, 256, 256, 3).\n",
            "WARNING:tensorflow:Model was constructed with shape (256, 256, 3) for input KerasTensor(type_spec=TensorSpec(shape=(256, 256, 3), dtype=tf.float32, name='random_flip_input'), name='random_flip_input', description=\"created by layer 'random_flip_input'\"), but it was called on an input with incompatible shape (None, 256, 256, 3).\n",
            "WARNING:tensorflow:Model was constructed with shape (256, 256, 3) for input KerasTensor(type_spec=TensorSpec(shape=(256, 256, 3), dtype=tf.float32, name='resizing_input'), name='resizing_input', description=\"created by layer 'resizing_input'\"), but it was called on an input with incompatible shape (None, 256, 256, 3).\n",
            "WARNING:tensorflow:Model was constructed with shape (256, 256, 3) for input KerasTensor(type_spec=TensorSpec(shape=(256, 256, 3), dtype=tf.float32, name='random_flip_input'), name='random_flip_input', description=\"created by layer 'random_flip_input'\"), but it was called on an input with incompatible shape (None, 256, 256, 3).\n"
          ]
        },
        {
          "output_type": "stream",
          "name": "stderr",
          "text": [
            "/usr/local/lib/python3.7/dist-packages/tensorflow/python/util/dispatch.py:1082: UserWarning: \"`sparse_categorical_crossentropy` received `from_logits=True`, but the `output` argument was produced by a sigmoid or softmax activation and thus does not represent logits. Was this intended?\"\n",
            "  return dispatch_target(*args, **kwargs)\n"
          ]
        },
        {
          "output_type": "stream",
          "name": "stdout",
          "text": [
            "WARNING:tensorflow:Model was constructed with shape (256, 256, 3) for input KerasTensor(type_spec=TensorSpec(shape=(256, 256, 3), dtype=tf.float32, name='resizing_input'), name='resizing_input', description=\"created by layer 'resizing_input'\"), but it was called on an input with incompatible shape (None, 256, 256, 3).\n",
            "WARNING:tensorflow:Model was constructed with shape (256, 256, 3) for input KerasTensor(type_spec=TensorSpec(shape=(256, 256, 3), dtype=tf.float32, name='random_flip_input'), name='random_flip_input', description=\"created by layer 'random_flip_input'\"), but it was called on an input with incompatible shape (None, 256, 256, 3).\n",
            "22/24 [==========================>...] - ETA: 0s - loss: nan - accuracy: 0.3068WARNING:tensorflow:Model was constructed with shape (256, 256, 3) for input KerasTensor(type_spec=TensorSpec(shape=(256, 256, 3), dtype=tf.float32, name='resizing_input'), name='resizing_input', description=\"created by layer 'resizing_input'\"), but it was called on an input with incompatible shape (None, 256, 256, 3).\n",
            "WARNING:tensorflow:Model was constructed with shape (256, 256, 3) for input KerasTensor(type_spec=TensorSpec(shape=(256, 256, 3), dtype=tf.float32, name='random_flip_input'), name='random_flip_input', description=\"created by layer 'random_flip_input'\"), but it was called on an input with incompatible shape (None, 256, 256, 3).\n",
            "24/24 [==============================] - 22s 247ms/step - loss: nan - accuracy: 0.3333 - val_loss: nan - val_accuracy: 0.2500\n",
            "Epoch 2/10\n",
            "24/24 [==============================] - 0s 13ms/step - loss: nan - accuracy: 0.3333 - val_loss: nan - val_accuracy: 0.2500\n",
            "Epoch 3/10\n",
            "24/24 [==============================] - 0s 11ms/step - loss: nan - accuracy: 0.3333 - val_loss: nan - val_accuracy: 0.2500\n",
            "Epoch 4/10\n",
            "24/24 [==============================] - 0s 11ms/step - loss: nan - accuracy: 0.3333 - val_loss: nan - val_accuracy: 0.2500\n",
            "Epoch 5/10\n",
            "24/24 [==============================] - 0s 10ms/step - loss: nan - accuracy: 0.3333 - val_loss: nan - val_accuracy: 0.2500\n",
            "Epoch 6/10\n",
            "24/24 [==============================] - 0s 10ms/step - loss: nan - accuracy: 0.3333 - val_loss: nan - val_accuracy: 0.2500\n",
            "Epoch 7/10\n",
            "24/24 [==============================] - 0s 10ms/step - loss: nan - accuracy: 0.3333 - val_loss: nan - val_accuracy: 0.2500\n",
            "Epoch 8/10\n",
            "24/24 [==============================] - 0s 11ms/step - loss: nan - accuracy: 0.3333 - val_loss: nan - val_accuracy: 0.2500\n",
            "Epoch 9/10\n",
            "24/24 [==============================] - 0s 11ms/step - loss: nan - accuracy: 0.3333 - val_loss: nan - val_accuracy: 0.2500\n",
            "Epoch 10/10\n",
            "24/24 [==============================] - 0s 10ms/step - loss: nan - accuracy: 0.3333 - val_loss: nan - val_accuracy: 0.2500\n"
          ]
        },
        {
          "output_type": "execute_result",
          "data": {
            "text/plain": [
              "<keras.callbacks.History at 0x7f0a700533d0>"
            ]
          },
          "metadata": {},
          "execution_count": 15
        }
      ]
    },
    {
      "cell_type": "code",
      "source": [
        ""
      ],
      "metadata": {
        "id": "qUCPKR3TE25Y"
      },
      "execution_count": null,
      "outputs": []
    }
  ]
}